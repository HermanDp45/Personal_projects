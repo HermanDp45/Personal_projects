{
  "nbformat": 4,
  "nbformat_minor": 0,
  "metadata": {
    "colab": {
      "provenance": [],
      "collapsed_sections": [
        "kHvAvTYn_MiB"
      ],
      "toc_visible": true,
      "authorship_tag": "ABX9TyM99NR2/o4pBHRlOfQNyqn6",
      "include_colab_link": true
    },
    "kernelspec": {
      "name": "python3",
      "display_name": "Python 3"
    },
    "language_info": {
      "name": "python"
    }
  },
  "cells": [
    {
      "cell_type": "markdown",
      "metadata": {
        "id": "view-in-github",
        "colab_type": "text"
      },
      "source": [
        "<a href=\"https://colab.research.google.com/github/HermanDp45/Personal_projects/blob/main/Finding_a_girl_with_ginger_hair/Hair_Detection.ipynb\" target=\"_parent\"><img src=\"https://colab.research.google.com/assets/colab-badge.svg\" alt=\"Open In Colab\"/></a>"
      ]
    },
    {
      "cell_type": "markdown",
      "source": [
        "# Parsing images from VK's groups"
      ],
      "metadata": {
        "id": "uAYs0y5QCJTo"
      }
    },
    {
      "cell_type": "markdown",
      "source": [
        "## Imports"
      ],
      "metadata": {
        "id": "Glvbjh4mDt3f"
      }
    },
    {
      "cell_type": "code",
      "source": [
        "import requests\n",
        "import time"
      ],
      "metadata": {
        "id": "1l_V5Z-RCGxS"
      },
      "execution_count": 1,
      "outputs": []
    },
    {
      "cell_type": "markdown",
      "source": [
        "## Constants"
      ],
      "metadata": {
        "id": "BWaXnZlnDy_t"
      }
    },
    {
      "cell_type": "code",
      "source": [
        "ACCESS_TOKEN = 'your_access_token_here'  # Replace with your VK access token\n",
        "GROUP_ID = 'lovebmstu'  # Replace with your VK group ID\n",
        "VERSION = '5.131'  # API version\n",
        "COUNT = 1000  # Number of users to fetch per request (maximum is 1000)"
      ],
      "metadata": {
        "id": "TyHUUmd2DtEX"
      },
      "execution_count": 5,
      "outputs": []
    },
    {
      "cell_type": "markdown",
      "source": [
        "## Functions to get group mebers"
      ],
      "metadata": {
        "id": "11yuHqaGD8w3"
      }
    },
    {
      "cell_type": "code",
      "source": [
        "# Function to get group members\n",
        "def get_group_members(group_id, offset=0, count=1000):\n",
        "    url = 'https://api.vk.com/method/groups.getMembers'\n",
        "    params = {\n",
        "        'group_id': group_id,\n",
        "        'offset': offset,\n",
        "        'count': count,\n",
        "        #'access_token': ACCESS_TOKEN,\n",
        "        'fields': [\"sex\", \"photo_400_orig\", \"photo_max_orig\"]\n",
        "    }\n",
        "    response = requests.get(url, params=params)\n",
        "    return response.json()\n",
        "\n",
        "# Fetch all user IDs\n",
        "def fetch_all_members(group_id):\n",
        "    all_members = []\n",
        "    offset = 0\n",
        "\n",
        "    while True:\n",
        "        response = get_group_members(group_id, offset)\n",
        "        members = response.get('response', {}).get('items', [])\n",
        "        all_members.extend(members)\n",
        "\n",
        "        if len(members) < COUNT:\n",
        "            break\n",
        "\n",
        "        offset += COUNT\n",
        "        time.sleep(0.33)  # To prevent hitting rate limits (3 requests per second)\n",
        "\n",
        "    return all_members"
      ],
      "metadata": {
        "id": "QPUmtDTwECwR"
      },
      "execution_count": 2,
      "outputs": []
    },
    {
      "cell_type": "markdown",
      "source": [
        "## Getting"
      ],
      "metadata": {
        "id": "3mTrBvXxEj1E"
      }
    },
    {
      "cell_type": "code",
      "source": [
        "# Main script\n",
        "if __name__ == \"__main__\":\n",
        "    user_ids = fetch_all_members(GROUP_ID)\n",
        "    print(f\"Total members fetched: {len(user_ids)}\")\n",
        "    with open('vk_group_members.txt', 'w') as f:\n",
        "        for user_id in user_ids:\n",
        "            f.write(f\"{user_id}\\n\")"
      ],
      "metadata": {
        "colab": {
          "base_uri": "https://localhost:8080/"
        },
        "id": "MH3ldL0hEmNX",
        "outputId": "c6c7bf2a-2848-4d8b-ec72-252bd0e699b8"
      },
      "execution_count": 6,
      "outputs": [
        {
          "output_type": "stream",
          "name": "stdout",
          "text": [
            "Total members fetched: 0\n"
          ]
        }
      ]
    },
    {
      "cell_type": "markdown",
      "source": [
        "# Получение фотографии головы человека\n",
        "\n",
        "Необходимо получить фотографию лица из изначальной фотографии./\n",
        "\n",
        "Для этого я воспользуюсь **Haar Cascade classifier from OpenCV**"
      ],
      "metadata": {
        "id": "kHvAvTYn_MiB"
      }
    },
    {
      "cell_type": "code",
      "execution_count": null,
      "metadata": {
        "id": "OffL2RFh_FXC"
      },
      "outputs": [],
      "source": [
        "import cv2"
      ]
    }
  ]
}